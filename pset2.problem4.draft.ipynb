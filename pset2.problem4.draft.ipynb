{
 "cells": [
  {
   "cell_type": "markdown",
   "id": "f79e28e5",
   "metadata": {},
   "source": [
    "## Problem Set 2 (problem 4)\n",
    "#### Description: Diagnosing Weak Instrument Problem\n",
    "#### Authors: Bobing, Cassandra, Max, Prema, Rajdev, and Yazen\n",
    "#### Date last modified: April 14, 2023\n",
    "\n",
    "# ---------\n",
    "Set-up:\n",
    "\n",
    "$$y = x\\beta + e$$\n",
    "\n",
    "$$x = Z\\pi + u$$ where \n",
    "\n",
    "For this problem, we use the following dimensions:\n",
    "\n",
    "1. $y$ is $N\\times 1$ \n",
    "2. $x$ is $N\\times 1$ \n",
    "3. $Z$ is $N\\times l$\n",
    "4. beta is $1\\times1$\n",
    "5. pi is $l\\times1$\n",
    "\n",
    "# ---------"
   ]
  },
  {
   "cell_type": "markdown",
   "id": "54d5408b",
   "metadata": {},
   "source": [
    "## Part 1 "
   ]
  },
  {
   "cell_type": "code",
   "execution_count": 182,
   "id": "ae109053",
   "metadata": {},
   "outputs": [],
   "source": [
    "import numpy as np\n",
    "import scipy.stats.distributions as iid\n",
    "import scipy.stats\n",
    "import matplotlib.pyplot as plt\n",
    "from numpy.linalg import inv\n",
    "import math\n",
    "import random"
   ]
  },
  {
   "cell_type": "code",
   "execution_count": 183,
   "id": "c7dbcc14",
   "metadata": {},
   "outputs": [],
   "source": [
    "# DGP: y, x\n",
    "def dgp(N, beta, pi):\n",
    "    '''\n",
    "    Data-generating process\n",
    "    \n",
    "    Inputs\n",
    "    ------\n",
    "    N (int) number of obervations\n",
    "    beta (float) true parameter\n",
    "    pi (lx1 np.array) tur first stage parameter\n",
    "    \n",
    "    Returns\n",
    "    -------\n",
    "    y (Nx1 np.array)\n",
    "    x (Nx1 np.array)\n",
    "    Z (Nxl np.array)\n",
    "    '''\n",
    "    # infer number of instruments from the size of pi\n",
    "    l = pi.shape[0]\n",
    "    # first generate Z\n",
    "    Z = scipy.stats.multivariate_normal(np.zeros(l), np.eye(l)).rvs(size=N)\n",
    "    if len(Z.shape) == 1:\n",
    "        Z = Z.reshape(-1,1)\n",
    "    \n",
    "    # now build X\n",
    "    X = Z@pi + iid.norm().rvs(size=(N,1))\n",
    "\n",
    "    # finally, build y ; note that beta is unbiased here as the error term is randomly generated, and not correlated to x\n",
    "    y = X*beta + iid.norm().rvs(size=(N,1))\n",
    "    \n",
    "    return y, X, Z"
   ]
  },
  {
   "cell_type": "code",
   "execution_count": 184,
   "id": "c57fe327",
   "metadata": {},
   "outputs": [
    {
     "data": {
      "text/plain": [
       "(array([[-2.38037747],\n",
       "        [-0.30568641],\n",
       "        [-1.37315097],\n",
       "        [-3.62292988],\n",
       "        [-0.88942196],\n",
       "        [ 3.95672347],\n",
       "        [ 1.18447627],\n",
       "        [-3.924025  ],\n",
       "        [-2.5851072 ],\n",
       "        [-0.11022104]]),\n",
       " array([[ 0.29869732],\n",
       "        [-0.91872558],\n",
       "        [-1.08938031],\n",
       "        [-2.48373235],\n",
       "        [ 0.08844825],\n",
       "        [ 3.32357599],\n",
       "        [ 0.55475063],\n",
       "        [-0.99384649],\n",
       "        [-1.75852804],\n",
       "        [-1.53999232]]),\n",
       " array([[ 0.67183969, -0.09759989],\n",
       "        [ 0.66803776,  0.1436952 ],\n",
       "        [ 0.182625  , -0.04603056],\n",
       "        [-0.93040285, -0.90850058],\n",
       "        [ 0.07051975, -1.48853175],\n",
       "        [ 1.60470222,  1.79589641],\n",
       "        [ 1.72117981, -0.28334608],\n",
       "        [-0.87757689,  0.14219995],\n",
       "        [-1.2861541 , -0.85641862],\n",
       "        [-0.20594516, -0.13357382]]))"
      ]
     },
     "execution_count": 184,
     "metadata": {},
     "output_type": "execute_result"
    }
   ],
   "source": [
    "# test\n",
    "N = 10\n",
    "beta = 1\n",
    "pi = np.array([[1], [1]])\n",
    "dgp(N, beta, pi)"
   ]
  },
  {
   "cell_type": "markdown",
   "id": "48ab2962",
   "metadata": {},
   "source": [
    "## Part 2"
   ]
  },
  {
   "cell_type": "markdown",
   "id": "98038fde",
   "metadata": {},
   "source": [
    "## 2 (a) \n",
    "Note:\n",
    "1. l = 1 (i.e., we only have 1 instrument in this case)\n",
    "2. Errors are homoskedastic"
   ]
  },
  {
   "cell_type": "code",
   "execution_count": 185,
   "id": "2dc68336",
   "metadata": {},
   "outputs": [],
   "source": [
    "# trial\n",
    "def two_sls(y, X, Z):\n",
    "    '''\n",
    "    Estimate 2 stage least squares given data on y, X and Z.\n",
    "    \n",
    "    Inputs:\n",
    "    -------\n",
    "    y (Nx1 np.array)\n",
    "    X (Nx1 np.array)\n",
    "    Z (Nxl np.array)\n",
    "    \n",
    "    Returns\n",
    "    -------\n",
    "    beta_hat, vb_beta_hat\n",
    "    '''\n",
    "    y = np.array(y)\n",
    "    X = np.array(X)\n",
    "    Z = np.array(Z)\n",
    "    ZX = np.transpose(Z)@X\n",
    "    ZX_inv = np.linalg.pinv(ZX)#using pseuodo-inverse\n",
    "    Zy = np.transpose(Z)@y\n",
    "    ZZ = np.transpose(Z)@Z\n",
    "    ZZ_inv = np.linalg.pinv(ZZ)\n",
    "    #Beta_IV2SLS = ZX_inv@ZY\n",
    "    beta_hat = np.linalg.pinv(np.transpose(ZX)@ZZ_inv@ZX)@(np.transpose(ZX)@ZZ_inv@Zy)\n",
    "    e = y - X@beta_hat\n",
    "    SSR = np.transpose(e)@e\n",
    "    N = X.shape[0]\n",
    "    vcv = (SSR/N)*np.linalg.pinv(np.transpose(ZX)@ZZ_inv@ZX)\n",
    "    K = X.shape[1]\n",
    "    se_beta_hat = np.zeros(K)\n",
    "    for i in range(K):\n",
    "          se_beta_hat[i] = np.sqrt(vcv[i,i])\n",
    "            \n",
    "    return beta_hat, se_beta_hat\n",
    "\n",
    "    "
   ]
  },
  {
   "cell_type": "code",
   "execution_count": 186,
   "id": "8d80b842",
   "metadata": {},
   "outputs": [],
   "source": [
    "random.seed(11)"
   ]
  },
  {
   "cell_type": "code",
   "execution_count": 187,
   "id": "58079b22",
   "metadata": {},
   "outputs": [
    {
     "name": "stdout",
     "output_type": "stream",
     "text": [
      "(array([[0.99367225]]), array([0.02795285]))\n"
     ]
    }
   ],
   "source": [
    "# test \n",
    "y, X, Z = dgp(1000, 1, np.array([[1],[0.5],[0.25],[0.125]]))\n",
    "print(two_sls(y, X, Z))"
   ]
  },
  {
   "cell_type": "markdown",
   "id": "fa478838",
   "metadata": {},
   "source": [
    "#### Wrapping up: Monte-Carlo Function"
   ]
  },
  {
   "cell_type": "code",
   "execution_count": 188,
   "id": "be518a02",
   "metadata": {},
   "outputs": [],
   "source": [
    "# wrapping everything up in one function\n",
    "def monteCarlo(N, beta, pi):\n",
    "    y, X, Z = dgp(N, beta, pi)\n",
    "    return two_sls(y, X, Z)"
   ]
  },
  {
   "cell_type": "code",
   "execution_count": 189,
   "id": "d82ae8c9",
   "metadata": {},
   "outputs": [
    {
     "data": {
      "text/plain": [
       "(array([[1.02857668]]), array([0.02107417]))"
      ]
     },
     "execution_count": 189,
     "metadata": {},
     "output_type": "execute_result"
    }
   ],
   "source": [
    "# test\n",
    "monteCarlo(1000,1,np.array([[1],[1]]))"
   ]
  },
  {
   "cell_type": "markdown",
   "id": "09366507",
   "metadata": {},
   "source": [
    "## 2 (b) "
   ]
  },
  {
   "cell_type": "markdown",
   "id": "056181bc",
   "metadata": {},
   "source": [
    "Note: $\\beta=\\pi=1$\n",
    "We compare 3 dataset sizes: N=100, N=1000, and N=10000 to check the following:\n",
    "1. Bias of beta_hat\n",
    "2. Precision of beta_hat\n",
    "3. Size of t-test (beta = 0)\n",
    "4. Power of t-test (beta = 0)\n"
   ]
  },
  {
   "cell_type": "markdown",
   "id": "52d5eb1c",
   "metadata": {},
   "source": [
    "### Estimated beta "
   ]
  },
  {
   "cell_type": "code",
   "execution_count": 190,
   "id": "74ae7143",
   "metadata": {},
   "outputs": [
    {
     "data": {
      "image/png": "[encoded data removed]",
      "text/plain": [
       "<Figure size 640x480 with 3 Axes>"
      ]
     },
     "metadata": {},
     "output_type": "display_data"
    }
   ],
   "source": [
    "counter = 0 # first axis starts at 0\n",
    "fig, ax = plt.subplots(1, 3) # initialize 3 subplots\n",
    "\n",
    "# set global parameters for DGP\n",
    "beta = 1\n",
    "pi = np.array([[1]])\n",
    "for N in [100, 1000, 10000]:\n",
    "    # calculate IV a bunch of times\n",
    "    beta_hats = [monteCarlo(N, beta, pi)[0].item() for i in range(1000)]\n",
    "    # plot\n",
    "    ax[counter].hist(beta_hats)\n",
    "    ax[counter].set_title(f\"N = {N}\")\n",
    "    ax[counter].axvline(x=1, color='r', label='True beta')\n",
    "\n",
    "    # advance counter\n",
    "    counter = counter + 1"
   ]
  },
  {
   "cell_type": "markdown",
   "id": "6fa33108",
   "metadata": {},
   "source": [
    "### Estimated standard error of beta"
   ]
  },
  {
   "cell_type": "code",
   "execution_count": null,
   "id": "149fcd55",
   "metadata": {},
   "outputs": [],
   "source": [
    "counter = 0 # first axis starts at 0\n",
    "fig, ax = plt.subplots(1, 3) # initialize 3 subplots\n",
    "\n",
    "# set global parameters for DGP\n",
    "beta = 1\n",
    "pi = np.array([[1]])\n",
    "for N in [100, 1000, 10000]:\n",
    "    # calculate IV a bunch of times\n",
    "    se_beta_hat = [monteCarlo(N, beta, pi)[1].item() for i in range(1000)]\n",
    "    # plot\n",
    "    ax[counter].hist(se_beta_hat)\n",
    "    ax[counter].set_title(f\"N = {N}\")\n",
    "    # advance counter\n",
    "    counter = counter + 1"
   ]
  },
  {
   "cell_type": "markdown",
   "id": "6f3d4db8",
   "metadata": {},
   "source": [
    "#### Testing the t-statistic"
   ]
  },
  {
   "cell_type": "code",
   "execution_count": 191,
   "id": "2c488b24",
   "metadata": {},
   "outputs": [
    {
     "name": "stdout",
     "output_type": "stream",
     "text": [
      "\n"
     ]
    },
    {
     "data": {
      "text/html": [
       "<table class=\"simpletable\">\n",
       "<caption>OLS Regression Results</caption>\n",
       "<tr>\n",
       "  <th>Dep. Variable:</th>            <td>y</td>        <th>  R-squared (uncentered):</th>      <td>   0.686</td> \n",
       "</tr>\n",
       "<tr>\n",
       "  <th>Model:</th>                   <td>OLS</td>       <th>  Adj. R-squared (uncentered):</th> <td>   0.686</td> \n",
       "</tr>\n",
       "<tr>\n",
       "  <th>Method:</th>             <td>Least Squares</td>  <th>  F-statistic:       </th>          <td>   2184.</td> \n",
       "</tr>\n",
       "<tr>\n",
       "  <th>Date:</th>             <td>Fri, 14 Apr 2023</td> <th>  Prob (F-statistic):</th>          <td>1.32e-253</td>\n",
       "</tr>\n",
       "<tr>\n",
       "  <th>Time:</th>                 <td>19:06:38</td>     <th>  Log-Likelihood:    </th>          <td> -1370.0</td> \n",
       "</tr>\n",
       "<tr>\n",
       "  <th>No. Observations:</th>      <td>  1000</td>      <th>  AIC:               </th>          <td>   2742.</td> \n",
       "</tr>\n",
       "<tr>\n",
       "  <th>Df Residuals:</th>          <td>   999</td>      <th>  BIC:               </th>          <td>   2747.</td> \n",
       "</tr>\n",
       "<tr>\n",
       "  <th>Df Model:</th>              <td>     1</td>      <th>                     </th>              <td> </td>    \n",
       "</tr>\n",
       "<tr>\n",
       "  <th>Covariance Type:</th>      <td>nonrobust</td>    <th>                     </th>              <td> </td>    \n",
       "</tr>\n",
       "</table>\n",
       "<table class=\"simpletable\">\n",
       "<tr>\n",
       "   <td></td>     <th>coef</th>     <th>std err</th>      <th>t</th>      <th>P>|t|</th>  <th>[0.025</th>    <th>0.975]</th>  \n",
       "</tr>\n",
       "<tr>\n",
       "  <th>x1</th> <td>    0.9722</td> <td>    0.021</td> <td>   46.730</td> <td> 0.000</td> <td>    0.931</td> <td>    1.013</td>\n",
       "</tr>\n",
       "</table>\n",
       "<table class=\"simpletable\">\n",
       "<tr>\n",
       "  <th>Omnibus:</th>       <td> 5.189</td> <th>  Durbin-Watson:     </th> <td>   1.969</td>\n",
       "</tr>\n",
       "<tr>\n",
       "  <th>Prob(Omnibus):</th> <td> 0.075</td> <th>  Jarque-Bera (JB):  </th> <td>   5.286</td>\n",
       "</tr>\n",
       "<tr>\n",
       "  <th>Skew:</th>          <td>-0.130</td> <th>  Prob(JB):          </th> <td>  0.0711</td>\n",
       "</tr>\n",
       "<tr>\n",
       "  <th>Kurtosis:</th>      <td> 3.244</td> <th>  Cond. No.          </th> <td>    1.00</td>\n",
       "</tr>\n",
       "</table><br/><br/>Notes:<br/>[1] R² is computed without centering (uncentered) since the model does not contain a constant.<br/>[2] Standard Errors assume that the covariance matrix of the errors is correctly specified."
      ],
      "text/plain": [
       "<class 'statsmodels.iolib.summary.Summary'>\n",
       "\"\"\"\n",
       "                                 OLS Regression Results                                \n",
       "=======================================================================================\n",
       "Dep. Variable:                      y   R-squared (uncentered):                   0.686\n",
       "Model:                            OLS   Adj. R-squared (uncentered):              0.686\n",
       "Method:                 Least Squares   F-statistic:                              2184.\n",
       "Date:                Fri, 14 Apr 2023   Prob (F-statistic):                   1.32e-253\n",
       "Time:                        19:06:38   Log-Likelihood:                         -1370.0\n",
       "No. Observations:                1000   AIC:                                      2742.\n",
       "Df Residuals:                     999   BIC:                                      2747.\n",
       "Df Model:                           1                                                  \n",
       "Covariance Type:            nonrobust                                                  \n",
       "==============================================================================\n",
       "                 coef    std err          t      P>|t|      [0.025      0.975]\n",
       "------------------------------------------------------------------------------\n",
       "x1             0.9722      0.021     46.730      0.000       0.931       1.013\n",
       "==============================================================================\n",
       "Omnibus:                        5.189   Durbin-Watson:                   1.969\n",
       "Prob(Omnibus):                  0.075   Jarque-Bera (JB):                5.286\n",
       "Skew:                          -0.130   Prob(JB):                       0.0711\n",
       "Kurtosis:                       3.244   Cond. No.                         1.00\n",
       "==============================================================================\n",
       "\n",
       "Notes:\n",
       "[1] R² is computed without centering (uncentered) since the model does not contain a constant.\n",
       "[2] Standard Errors assume that the covariance matrix of the errors is correctly specified.\n",
       "\"\"\""
      ]
     },
     "execution_count": 191,
     "metadata": {},
     "output_type": "execute_result"
    }
   ],
   "source": [
    "# N = 100\n",
    "from statsmodels.regression.linear_model import OLS\n",
    "y, X, Z = dgp(1000, 1, np.array([[1]]))\n",
    "xhat = X@np.linalg.solve(Z.T@Z, Z.T@X)\n",
    "print()\n",
    "OLS(y,xhat).fit().summary()"
   ]
  },
  {
   "cell_type": "code",
   "execution_count": null,
   "id": "977c8886",
   "metadata": {},
   "outputs": [],
   "source": [
    "# N = 1000\n",
    "from statsmodels.regression.linear_model import OLS\n",
    "y, X, Z = dgp(10000, 1, np.array([[1]]))\n",
    "xhat = X@np.linalg.solve(Z.T@Z, Z.T@X)\n",
    "print()\n",
    "OLS(y,xhat).fit().summary()"
   ]
  },
  {
   "cell_type": "code",
   "execution_count": null,
   "id": "757b7d14",
   "metadata": {},
   "outputs": [],
   "source": [
    "# N = 10000\n",
    "from statsmodels.regression.linear_model import OLS\n",
    "y, X, Z = dgp(10000, 1, np.array([[1]]))\n",
    "xhat = X@np.linalg.solve(Z.T@Z, Z.T@X)\n",
    "print()\n",
    "OLS(y,xhat).fit().summary()"
   ]
  },
  {
   "cell_type": "markdown",
   "id": "3dd6d1e3",
   "metadata": {},
   "source": [
    "### Takeaway\n",
    "<br>\n",
    "Yes, a 95% confidence interval estimated by the 2SLS estimator above almost correctly covers 95% of our Monte Carlo draws for the three values of N we considered.\n",
    "<br>\n",
    "For example, when N = 1000: \n",
    "<br>\n",
    "95% CI estimated by 2SLS estimator = [0.956,1.041]\n",
    "<br>\n",
    "95% of Monte Carlo draws = [0.90, 1.10]"
   ]
  },
  {
   "cell_type": "markdown",
   "id": "7e9b4f9b",
   "metadata": {},
   "source": [
    "#### <font color='red'>t-test (size and power) -- need to doublecheck!</font> "
   ]
  },
  {
   "cell_type": "code",
   "execution_count": 8,
   "id": "3d42d929",
   "metadata": {},
   "outputs": [],
   "source": [
    "# import statsmodels.stats.power as smp\n",
    "# smp.ttest_power(0.8, nobs=1000, alpha=0.05, alternative='two-sided')"
   ]
  },
  {
   "cell_type": "markdown",
   "id": "0ab7375c",
   "metadata": {},
   "source": [
    "##### References:\n",
    "1. https://stackoverflow.com/questions/54067722/calculate-power-for-t-test-in-python (power, effect size)\n",
    "2. https://machinelearningmastery.com/effect-size-measures-in-python/ (effect size)\n",
    "3. https://en.wikipedia.org/wiki/Effect_size (wiki definitions)\n",
    "4. https://rowannicholls.github.io/python/statistics/effect_size.html "
   ]
  },
  {
   "cell_type": "markdown",
   "id": "948f1dc8",
   "metadata": {},
   "source": [
    "## 2 (c)\n",
    "Now let's iterate over $\\pi$ instead of N, seeing how we do with varyingly weak instruments.\n",
    "<br>\n",
    "Note: We use sample size N = 1000 "
   ]
  },
  {
   "cell_type": "markdown",
   "id": "a115e226",
   "metadata": {},
   "source": [
    "### Estimated beta"
   ]
  },
  {
   "cell_type": "code",
   "execution_count": 192,
   "id": "b162d51a",
   "metadata": {
    "scrolled": true
   },
   "outputs": [
    {
     "data": {
      "image/png": "[encoded data removed]",
      "text/plain": [
       "<Figure size 1500x700 with 4 Axes>"
      ]
     },
     "metadata": {},
     "output_type": "display_data"
    }
   ],
   "source": [
    "counter = 0 # first axis starts at 0\n",
    "fig, ax = plt.subplots(1, 4, figsize=(15,7)) # initialize 3 subplots\n",
    "\n",
    "# set global parameters for DGP\n",
    "beta = 1\n",
    "N = 1000\n",
    "\n",
    "# start empty list to save to\n",
    "beta_hats = []\n",
    "\n",
    "for p in [0.001, 0.01, 0.1, 1]:\n",
    "    # calculate IV a bunch of times\n",
    "    beta_hats = np.array([monteCarlo(N, beta, np.array([[p]]))[0].item() for i in range(1000)])\n",
    "    # some stats\n",
    "    minbeta = beta_hats.min()\n",
    "    maxbeta = beta_hats.max()\n",
    "    # plot\n",
    "    ax[counter].hist(beta_hats)\n",
    "    ax[counter].set_title(f\"pi = {p}; beta \\in [{minbeta:.1}, {maxbeta:.1}]\")\n",
    "    ax[counter].axvline(x=1, color='r', label='True beta')\n",
    "\n",
    "    # advance counter\n",
    "    counter = counter + 1"
   ]
  },
  {
   "cell_type": "markdown",
   "id": "0f71fba9",
   "metadata": {},
   "source": [
    "### Estimated standard error of beta"
   ]
  },
  {
   "cell_type": "code",
   "execution_count": 193,
   "id": "fae41f48",
   "metadata": {},
   "outputs": [
    {
     "data": {
      "image/png": "[encoded data removed]",
      "text/plain": [
       "<Figure size 1500x700 with 4 Axes>"
      ]
     },
     "metadata": {},
     "output_type": "display_data"
    }
   ],
   "source": [
    "counter = 0 # first axis starts at 0\n",
    "fig, ax = plt.subplots(1, 4, figsize=(15,7)) # initialize 3 subplots\n",
    "\n",
    "# set global parameters for DGP\n",
    "beta = 1\n",
    "N = 1000\n",
    "\n",
    "# start empty list to save to\n",
    "se_beta_hat = []\n",
    "\n",
    "for p in [0.001, 0.01, 0.1, 1]:\n",
    "    # calculate IV a bunch of times\n",
    "    se_beta_hat = np.array([monteCarlo(N, beta, np.array([[p]]))[1].item() for i in range(1000)])\n",
    "    # some stats\n",
    "    minvb = se_beta_hat.min()\n",
    "    maxvb = se_beta_hat.max()\n",
    "    # plot\n",
    "    ax[counter].hist(se_beta_hat)\n",
    "    ax[counter].set_title(f\"pi = {p}; se_beta \\in [{minvb:.1}, {maxvb:.1}]\")\n",
    "\n",
    "    # advance counter\n",
    "    counter = counter + 1"
   ]
  },
  {
   "cell_type": "markdown",
   "id": "981107d6",
   "metadata": {},
   "source": [
    "#### Testing the t-statistic"
   ]
  },
  {
   "cell_type": "code",
   "execution_count": 23,
   "id": "501460c9",
   "metadata": {},
   "outputs": [
    {
     "name": "stdout",
     "output_type": "stream",
     "text": [
      "\n"
     ]
    },
    {
     "data": {
      "text/html": [
       "<table class=\"simpletable\">\n",
       "<caption>OLS Regression Results</caption>\n",
       "<tr>\n",
       "  <th>Dep. Variable:</th>            <td>y</td>        <th>  R-squared (uncentered):</th>      <td>   0.468</td> \n",
       "</tr>\n",
       "<tr>\n",
       "  <th>Model:</th>                   <td>OLS</td>       <th>  Adj. R-squared (uncentered):</th> <td>   0.467</td> \n",
       "</tr>\n",
       "<tr>\n",
       "  <th>Method:</th>             <td>Least Squares</td>  <th>  F-statistic:       </th>          <td>   878.2</td> \n",
       "</tr>\n",
       "<tr>\n",
       "  <th>Date:</th>             <td>Fri, 14 Apr 2023</td> <th>  Prob (F-statistic):</th>          <td>5.39e-139</td>\n",
       "</tr>\n",
       "<tr>\n",
       "  <th>Time:</th>                 <td>17:03:56</td>     <th>  Log-Likelihood:    </th>          <td> -1441.0</td> \n",
       "</tr>\n",
       "<tr>\n",
       "  <th>No. Observations:</th>      <td>  1000</td>      <th>  AIC:               </th>          <td>   2884.</td> \n",
       "</tr>\n",
       "<tr>\n",
       "  <th>Df Residuals:</th>          <td>   999</td>      <th>  BIC:               </th>          <td>   2889.</td> \n",
       "</tr>\n",
       "<tr>\n",
       "  <th>Df Model:</th>              <td>     1</td>      <th>                     </th>              <td> </td>    \n",
       "</tr>\n",
       "<tr>\n",
       "  <th>Covariance Type:</th>      <td>nonrobust</td>    <th>                     </th>              <td> </td>    \n",
       "</tr>\n",
       "</table>\n",
       "<table class=\"simpletable\">\n",
       "<tr>\n",
       "   <td></td>     <th>coef</th>     <th>std err</th>      <th>t</th>      <th>P>|t|</th>  <th>[0.025</th>    <th>0.975]</th>  \n",
       "</tr>\n",
       "<tr>\n",
       "  <th>x1</th> <td>   14.0475</td> <td>    0.474</td> <td>   29.634</td> <td> 0.000</td> <td>   13.117</td> <td>   14.978</td>\n",
       "</tr>\n",
       "</table>\n",
       "<table class=\"simpletable\">\n",
       "<tr>\n",
       "  <th>Omnibus:</th>       <td> 2.366</td> <th>  Durbin-Watson:     </th> <td>   2.045</td>\n",
       "</tr>\n",
       "<tr>\n",
       "  <th>Prob(Omnibus):</th> <td> 0.306</td> <th>  Jarque-Bera (JB):  </th> <td>   2.172</td>\n",
       "</tr>\n",
       "<tr>\n",
       "  <th>Skew:</th>          <td>-0.039</td> <th>  Prob(JB):          </th> <td>   0.338</td>\n",
       "</tr>\n",
       "<tr>\n",
       "  <th>Kurtosis:</th>      <td> 2.785</td> <th>  Cond. No.          </th> <td>    1.00</td>\n",
       "</tr>\n",
       "</table><br/><br/>Notes:<br/>[1] R² is computed without centering (uncentered) since the model does not contain a constant.<br/>[2] Standard Errors assume that the covariance matrix of the errors is correctly specified."
      ],
      "text/plain": [
       "<class 'statsmodels.iolib.summary.Summary'>\n",
       "\"\"\"\n",
       "                                 OLS Regression Results                                \n",
       "=======================================================================================\n",
       "Dep. Variable:                      y   R-squared (uncentered):                   0.468\n",
       "Model:                            OLS   Adj. R-squared (uncentered):              0.467\n",
       "Method:                 Least Squares   F-statistic:                              878.2\n",
       "Date:                Fri, 14 Apr 2023   Prob (F-statistic):                   5.39e-139\n",
       "Time:                        17:03:56   Log-Likelihood:                         -1441.0\n",
       "No. Observations:                1000   AIC:                                      2884.\n",
       "Df Residuals:                     999   BIC:                                      2889.\n",
       "Df Model:                           1                                                  \n",
       "Covariance Type:            nonrobust                                                  \n",
       "==============================================================================\n",
       "                 coef    std err          t      P>|t|      [0.025      0.975]\n",
       "------------------------------------------------------------------------------\n",
       "x1            14.0475      0.474     29.634      0.000      13.117      14.978\n",
       "==============================================================================\n",
       "Omnibus:                        2.366   Durbin-Watson:                   2.045\n",
       "Prob(Omnibus):                  0.306   Jarque-Bera (JB):                2.172\n",
       "Skew:                          -0.039   Prob(JB):                        0.338\n",
       "Kurtosis:                       2.785   Cond. No.                         1.00\n",
       "==============================================================================\n",
       "\n",
       "Notes:\n",
       "[1] R² is computed without centering (uncentered) since the model does not contain a constant.\n",
       "[2] Standard Errors assume that the covariance matrix of the errors is correctly specified.\n",
       "\"\"\""
      ]
     },
     "execution_count": 23,
     "metadata": {},
     "output_type": "execute_result"
    }
   ],
   "source": [
    "# p = 0.001\n",
    "from statsmodels.regression.linear_model import OLS\n",
    "y, X, Z = dgp(1000, 1, np.array([[0.001]]))\n",
    "xhat = X@np.linalg.solve(Z.T@Z, Z.T@X)\n",
    "print()\n",
    "OLS(y,xhat).fit().summary()"
   ]
  },
  {
   "cell_type": "code",
   "execution_count": 20,
   "id": "ec232c84",
   "metadata": {
    "collapsed": true
   },
   "outputs": [
    {
     "name": "stdout",
     "output_type": "stream",
     "text": [
      "\n"
     ]
    },
    {
     "data": {
      "text/html": [
       "<table class=\"simpletable\">\n",
       "<caption>OLS Regression Results</caption>\n",
       "<tr>\n",
       "  <th>Dep. Variable:</th>            <td>y</td>        <th>  R-squared (uncentered):</th>      <td>   0.462</td> \n",
       "</tr>\n",
       "<tr>\n",
       "  <th>Model:</th>                   <td>OLS</td>       <th>  Adj. R-squared (uncentered):</th> <td>   0.462</td> \n",
       "</tr>\n",
       "<tr>\n",
       "  <th>Method:</th>             <td>Least Squares</td>  <th>  F-statistic:       </th>          <td>   858.4</td> \n",
       "</tr>\n",
       "<tr>\n",
       "  <th>Date:</th>             <td>Fri, 14 Apr 2023</td> <th>  Prob (F-statistic):</th>          <td>1.08e-136</td>\n",
       "</tr>\n",
       "<tr>\n",
       "  <th>Time:</th>                 <td>17:02:49</td>     <th>  Log-Likelihood:    </th>          <td> -1448.8</td> \n",
       "</tr>\n",
       "<tr>\n",
       "  <th>No. Observations:</th>      <td>  1000</td>      <th>  AIC:               </th>          <td>   2900.</td> \n",
       "</tr>\n",
       "<tr>\n",
       "  <th>Df Residuals:</th>          <td>   999</td>      <th>  BIC:               </th>          <td>   2905.</td> \n",
       "</tr>\n",
       "<tr>\n",
       "  <th>Df Model:</th>              <td>     1</td>      <th>                     </th>              <td> </td>    \n",
       "</tr>\n",
       "<tr>\n",
       "  <th>Covariance Type:</th>      <td>nonrobust</td>    <th>                     </th>              <td> </td>    \n",
       "</tr>\n",
       "</table>\n",
       "<table class=\"simpletable\">\n",
       "<tr>\n",
       "   <td></td>     <th>coef</th>     <th>std err</th>      <th>t</th>      <th>P>|t|</th>  <th>[0.025</th>    <th>0.975]</th>  \n",
       "</tr>\n",
       "<tr>\n",
       "  <th>x1</th> <td>   38.0657</td> <td>    1.299</td> <td>   29.298</td> <td> 0.000</td> <td>   35.516</td> <td>   40.615</td>\n",
       "</tr>\n",
       "</table>\n",
       "<table class=\"simpletable\">\n",
       "<tr>\n",
       "  <th>Omnibus:</th>       <td> 1.424</td> <th>  Durbin-Watson:     </th> <td>   1.898</td>\n",
       "</tr>\n",
       "<tr>\n",
       "  <th>Prob(Omnibus):</th> <td> 0.491</td> <th>  Jarque-Bera (JB):  </th> <td>   1.295</td>\n",
       "</tr>\n",
       "<tr>\n",
       "  <th>Skew:</th>          <td> 0.054</td> <th>  Prob(JB):          </th> <td>   0.523</td>\n",
       "</tr>\n",
       "<tr>\n",
       "  <th>Kurtosis:</th>      <td> 3.139</td> <th>  Cond. No.          </th> <td>    1.00</td>\n",
       "</tr>\n",
       "</table><br/><br/>Notes:<br/>[1] R² is computed without centering (uncentered) since the model does not contain a constant.<br/>[2] Standard Errors assume that the covariance matrix of the errors is correctly specified."
      ],
      "text/plain": [
       "<class 'statsmodels.iolib.summary.Summary'>\n",
       "\"\"\"\n",
       "                                 OLS Regression Results                                \n",
       "=======================================================================================\n",
       "Dep. Variable:                      y   R-squared (uncentered):                   0.462\n",
       "Model:                            OLS   Adj. R-squared (uncentered):              0.462\n",
       "Method:                 Least Squares   F-statistic:                              858.4\n",
       "Date:                Fri, 14 Apr 2023   Prob (F-statistic):                   1.08e-136\n",
       "Time:                        17:02:49   Log-Likelihood:                         -1448.8\n",
       "No. Observations:                1000   AIC:                                      2900.\n",
       "Df Residuals:                     999   BIC:                                      2905.\n",
       "Df Model:                           1                                                  \n",
       "Covariance Type:            nonrobust                                                  \n",
       "==============================================================================\n",
       "                 coef    std err          t      P>|t|      [0.025      0.975]\n",
       "------------------------------------------------------------------------------\n",
       "x1            38.0657      1.299     29.298      0.000      35.516      40.615\n",
       "==============================================================================\n",
       "Omnibus:                        1.424   Durbin-Watson:                   1.898\n",
       "Prob(Omnibus):                  0.491   Jarque-Bera (JB):                1.295\n",
       "Skew:                           0.054   Prob(JB):                        0.523\n",
       "Kurtosis:                       3.139   Cond. No.                         1.00\n",
       "==============================================================================\n",
       "\n",
       "Notes:\n",
       "[1] R² is computed without centering (uncentered) since the model does not contain a constant.\n",
       "[2] Standard Errors assume that the covariance matrix of the errors is correctly specified.\n",
       "\"\"\""
      ]
     },
     "execution_count": 20,
     "metadata": {},
     "output_type": "execute_result"
    }
   ],
   "source": [
    "# p = 0.01\n",
    "from statsmodels.regression.linear_model import OLS\n",
    "y, X, Z = dgp(1000, 1, np.array([[0.01]]))\n",
    "xhat = X@np.linalg.solve(Z.T@Z, Z.T@X)\n",
    "print()\n",
    "OLS(y,xhat).fit().summary()"
   ]
  },
  {
   "cell_type": "code",
   "execution_count": 18,
   "id": "5df1694c",
   "metadata": {},
   "outputs": [
    {
     "name": "stdout",
     "output_type": "stream",
     "text": [
      "\n"
     ]
    },
    {
     "data": {
      "text/html": [
       "<table class=\"simpletable\">\n",
       "<caption>OLS Regression Results</caption>\n",
       "<tr>\n",
       "  <th>Dep. Variable:</th>            <td>y</td>        <th>  R-squared (uncentered):</th>      <td>   0.471</td> \n",
       "</tr>\n",
       "<tr>\n",
       "  <th>Model:</th>                   <td>OLS</td>       <th>  Adj. R-squared (uncentered):</th> <td>   0.471</td> \n",
       "</tr>\n",
       "<tr>\n",
       "  <th>Method:</th>             <td>Least Squares</td>  <th>  F-statistic:       </th>          <td>   890.7</td> \n",
       "</tr>\n",
       "<tr>\n",
       "  <th>Date:</th>             <td>Fri, 14 Apr 2023</td> <th>  Prob (F-statistic):</th>          <td>1.94e-140</td>\n",
       "</tr>\n",
       "<tr>\n",
       "  <th>Time:</th>                 <td>17:01:24</td>     <th>  Log-Likelihood:    </th>          <td> -1407.8</td> \n",
       "</tr>\n",
       "<tr>\n",
       "  <th>No. Observations:</th>      <td>  1000</td>      <th>  AIC:               </th>          <td>   2818.</td> \n",
       "</tr>\n",
       "<tr>\n",
       "  <th>Df Residuals:</th>          <td>   999</td>      <th>  BIC:               </th>          <td>   2822.</td> \n",
       "</tr>\n",
       "<tr>\n",
       "  <th>Df Model:</th>              <td>     1</td>      <th>                     </th>              <td> </td>    \n",
       "</tr>\n",
       "<tr>\n",
       "  <th>Covariance Type:</th>      <td>nonrobust</td>    <th>                     </th>              <td> </td>    \n",
       "</tr>\n",
       "</table>\n",
       "<table class=\"simpletable\">\n",
       "<tr>\n",
       "   <td></td>     <th>coef</th>     <th>std err</th>      <th>t</th>      <th>P>|t|</th>  <th>[0.025</th>    <th>0.975]</th>  \n",
       "</tr>\n",
       "<tr>\n",
       "  <th>x1</th> <td>   12.7837</td> <td>    0.428</td> <td>   29.845</td> <td> 0.000</td> <td>   11.943</td> <td>   13.624</td>\n",
       "</tr>\n",
       "</table>\n",
       "<table class=\"simpletable\">\n",
       "<tr>\n",
       "  <th>Omnibus:</th>       <td> 0.395</td> <th>  Durbin-Watson:     </th> <td>   2.078</td>\n",
       "</tr>\n",
       "<tr>\n",
       "  <th>Prob(Omnibus):</th> <td> 0.821</td> <th>  Jarque-Bera (JB):  </th> <td>   0.282</td>\n",
       "</tr>\n",
       "<tr>\n",
       "  <th>Skew:</th>          <td>-0.009</td> <th>  Prob(JB):          </th> <td>   0.869</td>\n",
       "</tr>\n",
       "<tr>\n",
       "  <th>Kurtosis:</th>      <td> 3.080</td> <th>  Cond. No.          </th> <td>    1.00</td>\n",
       "</tr>\n",
       "</table><br/><br/>Notes:<br/>[1] R² is computed without centering (uncentered) since the model does not contain a constant.<br/>[2] Standard Errors assume that the covariance matrix of the errors is correctly specified."
      ],
      "text/plain": [
       "<class 'statsmodels.iolib.summary.Summary'>\n",
       "\"\"\"\n",
       "                                 OLS Regression Results                                \n",
       "=======================================================================================\n",
       "Dep. Variable:                      y   R-squared (uncentered):                   0.471\n",
       "Model:                            OLS   Adj. R-squared (uncentered):              0.471\n",
       "Method:                 Least Squares   F-statistic:                              890.7\n",
       "Date:                Fri, 14 Apr 2023   Prob (F-statistic):                   1.94e-140\n",
       "Time:                        17:01:24   Log-Likelihood:                         -1407.8\n",
       "No. Observations:                1000   AIC:                                      2818.\n",
       "Df Residuals:                     999   BIC:                                      2822.\n",
       "Df Model:                           1                                                  \n",
       "Covariance Type:            nonrobust                                                  \n",
       "==============================================================================\n",
       "                 coef    std err          t      P>|t|      [0.025      0.975]\n",
       "------------------------------------------------------------------------------\n",
       "x1            12.7837      0.428     29.845      0.000      11.943      13.624\n",
       "==============================================================================\n",
       "Omnibus:                        0.395   Durbin-Watson:                   2.078\n",
       "Prob(Omnibus):                  0.821   Jarque-Bera (JB):                0.282\n",
       "Skew:                          -0.009   Prob(JB):                        0.869\n",
       "Kurtosis:                       3.080   Cond. No.                         1.00\n",
       "==============================================================================\n",
       "\n",
       "Notes:\n",
       "[1] R² is computed without centering (uncentered) since the model does not contain a constant.\n",
       "[2] Standard Errors assume that the covariance matrix of the errors is correctly specified.\n",
       "\"\"\""
      ]
     },
     "execution_count": 18,
     "metadata": {},
     "output_type": "execute_result"
    }
   ],
   "source": [
    "# p = 0.1\n",
    "from statsmodels.regression.linear_model import OLS\n",
    "y, X, Z = dgp(1000, 1, np.array([[0.1]]))\n",
    "xhat = X@np.linalg.solve(Z.T@Z, Z.T@X)\n",
    "print()\n",
    "OLS(y,xhat).fit().summary()"
   ]
  },
  {
   "cell_type": "code",
   "execution_count": 17,
   "id": "2b7e0101",
   "metadata": {},
   "outputs": [
    {
     "name": "stdout",
     "output_type": "stream",
     "text": [
      "\n"
     ]
    },
    {
     "data": {
      "text/html": [
       "<table class=\"simpletable\">\n",
       "<caption>OLS Regression Results</caption>\n",
       "<tr>\n",
       "  <th>Dep. Variable:</th>            <td>y</td>        <th>  R-squared (uncentered):</th>      <td>   0.652</td> \n",
       "</tr>\n",
       "<tr>\n",
       "  <th>Model:</th>                   <td>OLS</td>       <th>  Adj. R-squared (uncentered):</th> <td>   0.651</td> \n",
       "</tr>\n",
       "<tr>\n",
       "  <th>Method:</th>             <td>Least Squares</td>  <th>  F-statistic:       </th>          <td>   1870.</td> \n",
       "</tr>\n",
       "<tr>\n",
       "  <th>Date:</th>             <td>Fri, 14 Apr 2023</td> <th>  Prob (F-statistic):</th>          <td>4.73e-231</td>\n",
       "</tr>\n",
       "<tr>\n",
       "  <th>Time:</th>                 <td>17:01:19</td>     <th>  Log-Likelihood:    </th>          <td> -1457.8</td> \n",
       "</tr>\n",
       "<tr>\n",
       "  <th>No. Observations:</th>      <td>  1000</td>      <th>  AIC:               </th>          <td>   2918.</td> \n",
       "</tr>\n",
       "<tr>\n",
       "  <th>Df Residuals:</th>          <td>   999</td>      <th>  BIC:               </th>          <td>   2922.</td> \n",
       "</tr>\n",
       "<tr>\n",
       "  <th>Df Model:</th>              <td>     1</td>      <th>                     </th>              <td> </td>    \n",
       "</tr>\n",
       "<tr>\n",
       "  <th>Covariance Type:</th>      <td>nonrobust</td>    <th>                     </th>              <td> </td>    \n",
       "</tr>\n",
       "</table>\n",
       "<table class=\"simpletable\">\n",
       "<tr>\n",
       "   <td></td>     <th>coef</th>     <th>std err</th>      <th>t</th>      <th>P>|t|</th>  <th>[0.025</th>    <th>0.975]</th>  \n",
       "</tr>\n",
       "<tr>\n",
       "  <th>x1</th> <td>    0.9854</td> <td>    0.023</td> <td>   43.238</td> <td> 0.000</td> <td>    0.941</td> <td>    1.030</td>\n",
       "</tr>\n",
       "</table>\n",
       "<table class=\"simpletable\">\n",
       "<tr>\n",
       "  <th>Omnibus:</th>       <td> 0.249</td> <th>  Durbin-Watson:     </th> <td>   1.981</td>\n",
       "</tr>\n",
       "<tr>\n",
       "  <th>Prob(Omnibus):</th> <td> 0.883</td> <th>  Jarque-Bera (JB):  </th> <td>   0.188</td>\n",
       "</tr>\n",
       "<tr>\n",
       "  <th>Skew:</th>          <td> 0.030</td> <th>  Prob(JB):          </th> <td>   0.910</td>\n",
       "</tr>\n",
       "<tr>\n",
       "  <th>Kurtosis:</th>      <td> 3.032</td> <th>  Cond. No.          </th> <td>    1.00</td>\n",
       "</tr>\n",
       "</table><br/><br/>Notes:<br/>[1] R² is computed without centering (uncentered) since the model does not contain a constant.<br/>[2] Standard Errors assume that the covariance matrix of the errors is correctly specified."
      ],
      "text/plain": [
       "<class 'statsmodels.iolib.summary.Summary'>\n",
       "\"\"\"\n",
       "                                 OLS Regression Results                                \n",
       "=======================================================================================\n",
       "Dep. Variable:                      y   R-squared (uncentered):                   0.652\n",
       "Model:                            OLS   Adj. R-squared (uncentered):              0.651\n",
       "Method:                 Least Squares   F-statistic:                              1870.\n",
       "Date:                Fri, 14 Apr 2023   Prob (F-statistic):                   4.73e-231\n",
       "Time:                        17:01:19   Log-Likelihood:                         -1457.8\n",
       "No. Observations:                1000   AIC:                                      2918.\n",
       "Df Residuals:                     999   BIC:                                      2922.\n",
       "Df Model:                           1                                                  \n",
       "Covariance Type:            nonrobust                                                  \n",
       "==============================================================================\n",
       "                 coef    std err          t      P>|t|      [0.025      0.975]\n",
       "------------------------------------------------------------------------------\n",
       "x1             0.9854      0.023     43.238      0.000       0.941       1.030\n",
       "==============================================================================\n",
       "Omnibus:                        0.249   Durbin-Watson:                   1.981\n",
       "Prob(Omnibus):                  0.883   Jarque-Bera (JB):                0.188\n",
       "Skew:                           0.030   Prob(JB):                        0.910\n",
       "Kurtosis:                       3.032   Cond. No.                         1.00\n",
       "==============================================================================\n",
       "\n",
       "Notes:\n",
       "[1] R² is computed without centering (uncentered) since the model does not contain a constant.\n",
       "[2] Standard Errors assume that the covariance matrix of the errors is correctly specified.\n",
       "\"\"\""
      ]
     },
     "execution_count": 17,
     "metadata": {},
     "output_type": "execute_result"
    }
   ],
   "source": [
    "# p = 1\n",
    "from statsmodels.regression.linear_model import OLS\n",
    "y, X, Z = dgp(1000, 1, np.array([[1]]))\n",
    "xhat = X@np.linalg.solve(Z.T@Z, Z.T@X)\n",
    "print()\n",
    "OLS(y,xhat).fit().summary()"
   ]
  },
  {
   "cell_type": "markdown",
   "id": "61a0bbb7",
   "metadata": {},
   "source": [
    "#### <font color='red'>t-test (size and power) -- need to doublecheck!</font> \n"
   ]
  },
  {
   "cell_type": "markdown",
   "id": "3b7bde97",
   "metadata": {},
   "source": [
    "### Takeaways\n",
    "<br>\n",
    "1. As pi -> 0 (i.e., the instrument 'Z' becomes weaker), our Monte Carlo simulations show that the estimates of beta become more biased and move away from the true value of beta. Additionally, the estimates become less precise, with the variance increasing as the instrument becomes weaker.  \n",
    "<br>\n",
    "2. This problem does *not* go away even if we consider the estimates of beta with an asymptotic sample size (note: I ran the above code for N=10000 and N=100000 to look at the asymptotic case)."
   ]
  },
  {
   "cell_type": "code",
   "execution_count": null,
   "id": "e80a3c80",
   "metadata": {},
   "outputs": [],
   "source": []
  },
  {
   "cell_type": "markdown",
   "id": "03161b1c",
   "metadata": {},
   "source": [
    "#### <font color='red'>BUG: Need to see if the simulation below is running correctly </font> "
   ]
  },
  {
   "cell_type": "markdown",
   "id": "2830ea9d",
   "metadata": {},
   "source": [
    "## Part 3"
   ]
  },
  {
   "cell_type": "markdown",
   "id": "5821b765",
   "metadata": {},
   "source": [
    "## 3 (a)\n",
    "\n",
    "Note:\n",
    "<br>\n",
    "1. \\beta = 1 \n",
    "2. l = (1,2,3....) s.t. pi = (1,1/2,1/4....)\n",
    "<br>\n",
    "for l>1, this is an overidentified estimator"
   ]
  },
  {
   "cell_type": "code",
   "execution_count": 140,
   "id": "d10aa4b5",
   "metadata": {},
   "outputs": [],
   "source": [
    "import math\n",
    "a = 1\n",
    "r = 1/2\n",
    "length = 100\n",
    "\n",
    "geometric = [a * r ** (n - 1) for n in range(1, length + 1)]\n"
   ]
  },
  {
   "cell_type": "code",
   "execution_count": null,
   "id": "b7990b2c",
   "metadata": {},
   "outputs": [],
   "source": [
    "### BUG: "
   ]
  },
  {
   "cell_type": "markdown",
   "id": "6972c16c",
   "metadata": {},
   "source": [
    "### Estimated beta"
   ]
  },
  {
   "cell_type": "code",
   "execution_count": 199,
   "id": "91fc48be",
   "metadata": {},
   "outputs": [
    {
     "data": {
      "image/png": "[encoded data removed]",
      "text/plain": [
       "<Figure size 1500x700 with 2 Axes>"
      ]
     },
     "metadata": {},
     "output_type": "display_data"
    }
   ],
   "source": [
    "# Case 1 : p = [1] and l = 1\n",
    "counter = 0 # first axis starts at 0\n",
    "fig, ax = plt.subplots(1, 2, figsize=(15,7)) # initialize 3 subplots\n",
    "\n",
    "# set global parameters for DGP\n",
    "beta = 1\n",
    "N = 100\n",
    "\n",
    "# start empty list to save to\n",
    "beta_hats = []\n",
    "# calculate IV a bunch of times\n",
    "beta_hats = np.array([monteCarlo(N, beta, np.array([[geometric[0]], [geometric[1]]]))[0].item() for i in range(1000)])\n",
    "# some stats\n",
    "minbeta = beta_hats.min()\n",
    "maxbeta = beta_hats.max()\n",
    "# plot\n",
    "ax[counter].hist(beta_hats)\n",
    "ax[counter].set_title(f\"pi = {p}; beta \\in [{minbeta:.1}, {maxbeta:.1}]\")\n",
    "ax[counter].axvline(x=1, color='r', label='True beta')\n",
    "\n",
    "# advance counter\n",
    "counter = counter + 1"
   ]
  },
  {
   "cell_type": "code",
   "execution_count": 200,
   "id": "b52f394c",
   "metadata": {},
   "outputs": [
    {
     "data": {
      "image/png": "[encoded data removed]",
      "text/plain": [
       "<Figure size 1500x700 with 2 Axes>"
      ]
     },
     "metadata": {},
     "output_type": "display_data"
    }
   ],
   "source": [
    "# Case 2 : p = [[1],[1/2],[1/4],[1/8],[1/16]] and l = 5\n",
    "\n",
    "counter = 0 # first axis starts at 0\n",
    "fig, ax = plt.subplots(1, 2, figsize=(15,7)) # initialize 3 subplots\n",
    "\n",
    "# set global parameters for DGP\n",
    "beta = 1\n",
    "N = 100\n",
    "a = 1\n",
    "r = 1/2\n",
    "n = 2\n",
    "\n",
    "# start empty list to save to\n",
    "beta_hats = []\n",
    "# calculate IV a bunch of times\n",
    "beta_hats = np.array([monteCarlo(N, beta, np.array([[geometric[0]],[geometric[1]],[geometric[2]],[geometric[3]],[geometric[4]]]))[0].item() for i in range(1000)])\n",
    "# some stats\n",
    "minbeta = beta_hats.min()\n",
    "maxbeta = beta_hats.max()\n",
    "# plot\n",
    "ax[counter].hist(beta_hats)\n",
    "ax[counter].set_title(f\"pi = {p}; beta \\in [{minbeta:.1}, {maxbeta:.1}]\")\n",
    "ax[counter].axvline(x=1, color='r', label='True beta')\n",
    "\n",
    "# advance counter\n",
    "counter = counter + 1"
   ]
  },
  {
   "cell_type": "code",
   "execution_count": 201,
   "id": "ae1cb27f",
   "metadata": {},
   "outputs": [
    {
     "data": {
      "image/png": "[encoded data removed]",
      "text/plain": [
       "<Figure size 1500x700 with 2 Axes>"
      ]
     },
     "metadata": {},
     "output_type": "display_data"
    }
   ],
   "source": [
    "# Case 3 : p = [[1],[1/2],[1/4],[1/8],[1/16]......] and l = 10\n",
    "\n",
    "counter = 0 # first axis starts at 0\n",
    "fig, ax = plt.subplots(1, 2, figsize=(15,7)) # initialize 3 subplots\n",
    "\n",
    "# set global parameters for DGP\n",
    "beta = 1\n",
    "N = 100\n",
    "a = 1\n",
    "r = 1/2\n",
    "n = 2\n",
    "\n",
    "# start empty list to save to\n",
    "beta_hats = []\n",
    "# calculate IV a bunch of times\n",
    "beta_hats = np.array([monteCarlo(N, beta, np.array([[geometric[0]], [geometric[1]]]))[0].item() for i in range(1000)])\n",
    "# some stats\n",
    "minbeta = beta_hats.min()\n",
    "maxbeta = beta_hats.max()\n",
    "# plot\n",
    "ax[counter].hist(beta_hats)\n",
    "ax[counter].set_title(f\"pi = {p}; beta \\in [{minbeta:.1}, {maxbeta:.1}]\")\n",
    "ax[counter].axvline(x=1, color='r', label='True beta')\n",
    "\n",
    "# advance counter\n",
    "counter = counter + 1\n",
    "\n"
   ]
  },
  {
   "cell_type": "markdown",
   "id": "6b0ba0bb",
   "metadata": {},
   "source": [
    "### Estimated standard error of beta"
   ]
  },
  {
   "cell_type": "markdown",
   "id": "070df020",
   "metadata": {},
   "source": [
    "#### <font color='red'> Need to run similar simulations as above for the standard error </font> "
   ]
  },
  {
   "cell_type": "markdown",
   "id": "fc3d300d",
   "metadata": {},
   "source": [
    "## 3 (b)\n",
    "\n",
    "#### <font color='red'>Need to comment on the optimal number of instruments </font> "
   ]
  },
  {
   "cell_type": "code",
   "execution_count": null,
   "id": "e4e703b7",
   "metadata": {},
   "outputs": [],
   "source": []
  },
  {
   "cell_type": "code",
   "execution_count": null,
   "id": "64558e93",
   "metadata": {},
   "outputs": [],
   "source": []
  },
  {
   "cell_type": "code",
   "execution_count": null,
   "id": "a1036761",
   "metadata": {},
   "outputs": [],
   "source": []
  },
  {
   "cell_type": "code",
   "execution_count": null,
   "id": "b0e4bb4e",
   "metadata": {},
   "outputs": [],
   "source": []
  },
  {
   "cell_type": "markdown",
   "id": "07f29c22",
   "metadata": {},
   "source": [
    "# rough work (not included in the solution)"
   ]
  },
  {
   "cell_type": "code",
   "execution_count": null,
   "id": "0aa126e8",
   "metadata": {},
   "outputs": [],
   "source": [
    "# test\n",
    "counter = 0 # first axis starts at 0\n",
    "fig, ax = plt.subplots(1, 2, figsize=(15,7)) # initialize 3 subplots\n",
    "\n",
    "# set global parameters for DGP\n",
    "beta = 1\n",
    "N = 1000\n",
    "\n",
    "# start empty list to save to\n",
    "beta_hats = []\n",
    "\n",
    "for p in [geometric[1]]:\n",
    "    # calculate IV a bunch of times\n",
    "    beta_hats = np.array([monteCarlo(N, beta, np.array([[p], [p]]))[0].item() for i in range(1000)])\n",
    "    # some stats\n",
    "    minbeta = beta_hats.min()\n",
    "    maxbeta = beta_hats.max()\n",
    "    # plot\n",
    "    ax[counter].hist(beta_hats)\n",
    "    ax[counter].set_title(f\"pi = {p}; beta \\in [{minbeta:.1}, {maxbeta:.1}]\")\n",
    "    ax[counter].axvline(x=1, color='r', label='True beta')\n",
    "\n",
    "    # advance counter\n",
    "    counter = counter + 1"
   ]
  }
 ],
 "metadata": {
  "kernelspec": {
   "display_name": "Python 3 (ipykernel)",
   "language": "python",
   "name": "python3"
  },
  "language_info": {
   "codemirror_mode": {
    "name": "ipython",
    "version": 3
   },
   "file_extension": ".py",
   "mimetype": "text/x-python",
   "name": "python",
   "nbconvert_exporter": "python",
   "pygments_lexer": "ipython3",
   "version": "3.9.15"
  }
 },
 "nbformat": 4,
 "nbformat_minor": 5
}
